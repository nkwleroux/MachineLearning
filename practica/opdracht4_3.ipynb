{
 "cells": [
  {
   "cell_type": "code",
   "execution_count": 5,
   "id": "7e1c7c66",
   "metadata": {},
   "outputs": [],
   "source": [
    "from tensorflow.keras.models import Sequential\n",
    "from tensorflow.keras.layers import Dense\n",
    "from tensorflow.keras.optimizers import Adam, SGD\n",
    "import numpy as np\n",
    "import pandas as pd\n",
    "import matplotlib.pyplot as plt"
   ]
  },
  {
   "cell_type": "code",
   "execution_count": 6,
   "id": "b17b7382",
   "metadata": {},
   "outputs": [],
   "source": [
    "df = pd.read_csv('../data/housepricing.csv' , usecols = ['Area','Prices'])"
   ]
  },
  {
   "cell_type": "code",
   "execution_count": 7,
   "id": "2c776a9d",
   "metadata": {},
   "outputs": [
    {
     "data": {
      "text/html": [
       "<div>\n",
       "<style scoped>\n",
       "    .dataframe tbody tr th:only-of-type {\n",
       "        vertical-align: middle;\n",
       "    }\n",
       "\n",
       "    .dataframe tbody tr th {\n",
       "        vertical-align: top;\n",
       "    }\n",
       "\n",
       "    .dataframe thead th {\n",
       "        text-align: right;\n",
       "    }\n",
       "</style>\n",
       "<table border=\"1\" class=\"dataframe\">\n",
       "  <thead>\n",
       "    <tr style=\"text-align: right;\">\n",
       "      <th></th>\n",
       "      <th>Area</th>\n",
       "      <th>Prices</th>\n",
       "    </tr>\n",
       "  </thead>\n",
       "  <tbody>\n",
       "    <tr>\n",
       "      <th>0</th>\n",
       "      <td>164</td>\n",
       "      <td>43800</td>\n",
       "    </tr>\n",
       "    <tr>\n",
       "      <th>1</th>\n",
       "      <td>84</td>\n",
       "      <td>37550</td>\n",
       "    </tr>\n",
       "    <tr>\n",
       "      <th>2</th>\n",
       "      <td>190</td>\n",
       "      <td>49500</td>\n",
       "    </tr>\n",
       "    <tr>\n",
       "      <th>3</th>\n",
       "      <td>75</td>\n",
       "      <td>50075</td>\n",
       "    </tr>\n",
       "    <tr>\n",
       "      <th>4</th>\n",
       "      <td>148</td>\n",
       "      <td>52400</td>\n",
       "    </tr>\n",
       "  </tbody>\n",
       "</table>\n",
       "</div>"
      ],
      "text/plain": [
       "   Area  Prices\n",
       "0   164   43800\n",
       "1    84   37550\n",
       "2   190   49500\n",
       "3    75   50075\n",
       "4   148   52400"
      ]
     },
     "execution_count": 7,
     "metadata": {},
     "output_type": "execute_result"
    }
   ],
   "source": [
    "# Test to show first \n",
    "df.head()"
   ]
  },
  {
   "cell_type": "code",
   "execution_count": 8,
   "id": "f9144364",
   "metadata": {},
   "outputs": [],
   "source": [
    "#Reading the squareFeet list and salePrice list in from our dataframe\n",
    "squareFeet = df[['Area']].values\n",
    "salePrice = df[['Prices']].values"
   ]
  },
  {
   "cell_type": "code",
   "execution_count": 9,
   "id": "c9480753",
   "metadata": {},
   "outputs": [],
   "source": [
    "model = Sequential()\n",
    "# First 1 means our Dense needs 1 neuron, input shape is equal to 1, nothing. Because we are feeding\n",
    "# in one value, and getting one value back\n",
    "model.add(Dense(1, input_shape=(1,)))\n",
    "\n",
    "# We are using a optimizer, an optimizer is miniming the loss of the function. (minimize error)\n",
    "# Adam is considered to be one of the best optimizers. Won't really matter much because we\n",
    "# are using a small data sample/network (two vals)\n",
    "# mean_squared_error = Means that any calculated error is squared\n",
    "model.compile(Adam(learning_rate=0.8), 'mean_squared_error')"
   ]
  },
  {
   "cell_type": "code",
   "execution_count": 10,
   "id": "2f4f52c2",
   "metadata": {},
   "outputs": [
    {
     "name": "stdout",
     "output_type": "stream",
     "text": [
      "Epoch 1/10\n",
      "50000/50000 [==============================] - 25s 489us/step - loss: 307913408.0000\n",
      "Epoch 2/10\n",
      "50000/50000 [==============================] - 25s 501us/step - loss: 149674208.0000\n",
      "Epoch 3/10\n",
      "50000/50000 [==============================] - 24s 475us/step - loss: 143719792.0000\n",
      "Epoch 4/10\n",
      "50000/50000 [==============================] - 24s 474us/step - loss: 143682512.0000\n",
      "Epoch 5/10\n",
      "50000/50000 [==============================] - 24s 473us/step - loss: 143680432.0000\n",
      "Epoch 6/10\n",
      "50000/50000 [==============================] - 24s 478us/step - loss: 143685040.0000\n",
      "Epoch 7/10\n",
      "50000/50000 [==============================] - 24s 476us/step - loss: 143678896.0000\n",
      "Epoch 8/10\n",
      "50000/50000 [==============================] - 24s 474us/step - loss: 143688128.0000\n",
      "Epoch 9/10\n",
      "50000/50000 [==============================] - 25s 503us/step - loss: 143669568.0000\n",
      "Epoch 10/10\n",
      "50000/50000 [==============================] - 25s 505us/step - loss: 143660480.0000\n"
     ]
    },
    {
     "data": {
      "text/plain": [
       "<tensorflow.python.keras.callbacks.History at 0x2697b25e348>"
      ]
     },
     "execution_count": 10,
     "metadata": {},
     "output_type": "execute_result"
    }
   ],
   "source": [
    "# squareFeet = x , salePrice = y, we count the number of epochs whichs is 30\n",
    "# An epoch means how many times the program runs trough the data\n",
    "# After the first epoch, we rerun trough our data and keep optimizing it\n",
    "# Larger dataset means less epochs.\n",
    "# Batch_size is the amount of data points we give to the network every time\n",
    "model.fit(squareFeet, salePrice, epochs=10, batch_size=10)"
   ]
  },
  {
   "cell_type": "code",
   "execution_count": 11,
   "id": "3e8e955c",
   "metadata": {},
   "outputs": [],
   "source": [
    "# Predicts variable squareFeet and places result in variable y_pred\n",
    "y_pred = model.predict(squareFeet)"
   ]
  },
  {
   "cell_type": "code",
   "execution_count": 12,
   "id": "6c8776d8",
   "metadata": {},
   "outputs": [
    {
     "data": {
      "text/plain": [
       "[<matplotlib.lines.Line2D at 0x2697b298588>]"
      ]
     },
     "execution_count": 12,
     "metadata": {},
     "output_type": "execute_result"
    },
    {
     "data": {
      "image/png": "[encoded data removed]",
      "text/plain": [
       "<Figure size 432x288 with 1 Axes>"
      ]
     },
     "metadata": {
      "needs_background": "light"
     },
     "output_type": "display_data"
    }
   ],
   "source": [
    "df.plot(kind='scatter',\n",
    "        x='Area',\n",
    "        y='Prices',\n",
    "        title='Housing prices and Squareft')\n",
    "# ^The model is going to predict the squareFeet in our dataset and plot it (yHat)\n",
    "plt.plot(squareFeet, y_pred, color='red')"
   ]
  },
  {
   "cell_type": "code",
   "execution_count": 13,
   "id": "082799e3",
   "metadata": {},
   "outputs": [
    {
     "name": "stdout",
     "output_type": "stream",
     "text": [
      "[[84338.01]]\n",
      "[[43484.402]]\n"
     ]
    }
   ],
   "source": [
    "newSquareFootageBig = 2000;\n",
    "newSquareFootageSmall = 200;\n",
    "# prints both model predictions\n",
    "print(model.predict([newSquareFootageBig]))\n",
    "print(model.predict([newSquareFootageSmall]))"
   ]
  },
  {
   "cell_type": "code",
   "execution_count": null,
   "id": "9315244d",
   "metadata": {},
   "outputs": [],
   "source": []
  }
 ],
 "metadata": {
  "kernelspec": {
   "display_name": "Python 3",
   "language": "python",
   "name": "python3"
  },
  "language_info": {
   "codemirror_mode": {
    "name": "ipython",
    "version": 3
   },
   "file_extension": ".py",
   "mimetype": "text/x-python",
   "name": "python",
   "nbconvert_exporter": "python",
   "pygments_lexer": "ipython3",
   "version": "3.7.10"
  }
 },
 "nbformat": 4,
 "nbformat_minor": 5
}
