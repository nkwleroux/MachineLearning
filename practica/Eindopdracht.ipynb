{
 "cells": [
  {
   "cell_type": "markdown",
   "id": "dea5c4ec",
   "metadata": {},
   "source": [
    "# Eindopdracht onderdeel Machine Learning\n",
    "\n",
    "## Eindopdracht vragen"
   ]
  },
  {
   "cell_type": "code",
   "execution_count": null,
   "id": "9a64d495",
   "metadata": {},
   "outputs": [],
   "source": [
    "# a. Bestudeer de tutorial.\n",
    "\n",
    "#    Finished.\n",
    "\n",
    "# b. Bedenk een binair classificatie uitdaging. Stel een image dataset samen met eigen foto’s.\n",
    "\n",
    "#    For this assignment we used images from the internet to see if the people in the \n",
    "#    images are wearing a mask.\n",
    "\n",
    "# c. Maak een Jupyter notebook waarin je een binaire classificatie uitvoert op de zelf samengestelde\n",
    "# image dataset\n",
    "\n",
    "#    See the code below.\n",
    "\n",
    "# d. Test het CNN. Wat is je conclusie? \n",
    "\n",
    "#    From our tests, we conclude that out of the 40 pictures that we have chosen to be tested, \n",
    "#    only 28 of the images are accurately marked. We have evaluated the training dataset and \n",
    "#    validation dataset. A majority of the time the training dataset scored an accuracy score \n",
    "#    of at least 80%. There were even a few times where the training dataset scored 100%.\n",
    "#    As for the validation dataset, it scored poorly ranging below the 60%.\n",
    "#    The 40 images that we tested scored a 70% accuracy, well within our expectations \n",
    "#    considering the accuraccy of the validation dataset."
   ]
  },
  {
   "cell_type": "code",
   "execution_count": null,
   "id": "fae823f7",
   "metadata": {},
   "outputs": [],
   "source": [
    "# Imports\n",
    "\n",
    "%pylab inline\n",
    "from tensorflow.keras.models import Sequential\n",
    "from tensorflow.keras.layers import Dense, Conv2D, MaxPool2D, Flatten\n",
    "from tensorflow.keras.optimizers import RMSprop\n",
    "from tensorflow.keras.preprocessing.image import ImageDataGenerator\n",
    "from tensorflow.keras.preprocessing import image \n",
    "import matplotlib.image as mpimg # For drawing image on graph\n",
    "import matplotlib.pyplot as plt\n",
    "import tensorflow as tf\n",
    "from PIL import Image # For drawing image\n",
    "import numpy as np\n",
    "import os"
   ]
  },
  {
   "cell_type": "code",
   "execution_count": null,
   "id": "1d8e5287",
   "metadata": {},
   "outputs": [],
   "source": [
    "# First way to load an image\n",
    "imgPIL = Image.open('../data/eindopdracht/train/mask/1.jpg')\n",
    "imgPIL"
   ]
  },
  {
   "cell_type": "code",
   "execution_count": null,
   "id": "ae33284e",
   "metadata": {},
   "outputs": [],
   "source": [
    "# Second way to load an image\n",
    "imgTF = image.load_img('../data/eindopdracht/train/mask/1.jpg')\n",
    "plt.imshow(imgTF)"
   ]
  },
  {
   "cell_type": "code",
   "execution_count": null,
   "id": "08b98ccd",
   "metadata": {},
   "outputs": [],
   "source": [
    "# Third way to load an image\n",
    "imgMPimg = mpimg.imread('../data/eindopdracht/train/mask/1.jpg')\n",
    "plt.figure(figsize(20,10))\n",
    "imgplot = plt.imshow(img)"
   ]
  },
  {
   "cell_type": "code",
   "execution_count": null,
   "id": "d0e4b6e3",
   "metadata": {},
   "outputs": [],
   "source": [
    "# Need to change all values with in the image from the max 255 to a 1 or 0\n",
    "train = ImageDataGenerator(rescale = 1/255)\n",
    "validation = ImageDataGenerator(rescale = 1/255)"
   ]
  },
  {
   "cell_type": "code",
   "execution_count": null,
   "id": "df3bdf90",
   "metadata": {},
   "outputs": [],
   "source": [
    "# Dataset for the training dataset\n",
    "#      target_size = used to change the image size\n",
    "#      batch_size = the amount of images used to train the network\n",
    "#      class_mode 'binary' = used to give a 0 or 1 value if the image is equal to what is required.\n",
    "train_dataset = train.flow_from_directory('../data/eindopdracht/train',\n",
    "                                          target_size=(200,200),\n",
    "                                          batch_size = 3, \n",
    "                                          class_mode = 'binary')\n",
    "\n",
    "# Dataset for the validation dataset\n",
    "#      target_size = used to change the image size\n",
    "#      batch_size = the amount of images used to train the network\n",
    "#      class_mode 'binary' = used to give a 0 or 1 value if the image is equal to what is required.\n",
    "validation_dataset = train.flow_from_directory('../data/eindopdracht/validation',\n",
    "                                          target_size=(200,200),\n",
    "                                          batch_size = 3, \n",
    "                                          class_mode = 'binary')"
   ]
  },
  {
   "cell_type": "code",
   "execution_count": null,
   "id": "d838dfcc",
   "metadata": {},
   "outputs": [],
   "source": [
    "# the values of mask and noMask\n",
    "train_dataset.class_indices"
   ]
  },
  {
   "cell_type": "code",
   "execution_count": null,
   "id": "77ee5394",
   "metadata": {},
   "outputs": [],
   "source": [
    "# All the images in the dataset\n",
    "train_dataset.classes"
   ]
  },
  {
   "cell_type": "code",
   "execution_count": null,
   "id": "a46a1fba",
   "metadata": {},
   "outputs": [],
   "source": [
    "# the values of mask and noMask\n",
    "validation_dataset.class_indices"
   ]
  },
  {
   "cell_type": "code",
   "execution_count": null,
   "id": "83db0ce2",
   "metadata": {},
   "outputs": [],
   "source": [
    "# All the images in the dataset\n",
    "validation_dataset.classes"
   ]
  },
  {
   "cell_type": "code",
   "execution_count": null,
   "id": "0a411fb7",
   "metadata": {},
   "outputs": [],
   "source": [
    "# Create a sequential model\n",
    "model = Sequential()\n",
    "\n",
    "# This layer creates a concolutional kernel that is convolved with the layer input \n",
    "# to produce a tensor of outputs.\n",
    "# Parameters: Conv2D(filters, kernel_size, activation input_shape):\n",
    "    # filters: the number of output filters in the convolution\n",
    "    # kernel_size: A tuple of 2 integers, specifying the height and width of the \n",
    "    #              convolution window. --> 3 X 3 kernel\n",
    "    # This applies an activation function to an output.\n",
    "    # ReLU activation function is used. Formula: f(x) = max(0, x); \n",
    "    # According to the formula: The function returns 0 if it receives any negative input, \n",
    "    #                           but for any positive input, it returns that value back.\n",
    "    # In other words: It gives an output that has a range from 0 to infinity.\n",
    "    # input_shape = (channels, rows, cols) --> 200 X 200 X 3 image\n",
    "model.add(Conv2D(16,(3,3), activation='relu', input_shape=(200,200,3)))\n",
    "\n",
    "# This layer downsamples the input along its spatial dimensions (heigt and width) by \n",
    "# taking the maximum value over and input window for each channel of the input.\n",
    "model.add(MaxPool2D(pool_size=(2,2)))\n",
    "\n",
    "# This layer creates a concolutional kernel that is convolved with the layer input \n",
    "# to produce a tensor of outputs.\n",
    "# Parameters: Conv2D(filters, kernel_size, activation input_shape):\n",
    "    # filters: the number of output filters in the convolution\n",
    "    # kernel_size: A tuple of 2 integers, specifying the height and width of the \n",
    "    #              convolution window. --> 3 X 3 kernel\n",
    "    # This applies an activation function to an output.\n",
    "    # ReLU activation function is used. Formula: f(x) = max(0, x); \n",
    "    # According to the formula: The function returns 0 if it receives any negative input, \n",
    "    #                           but for any positive input, it returns that value back.\n",
    "    # In other words: It gives an output that has a range from 0 to infinity.\n",
    "model.add(Conv2D(32,(3,3), activation='relu'))\n",
    "\n",
    "# This layer downsamples the input along its spatial dimensions (heigt and width) by \n",
    "# taking the maximum value over and input window for each channel of the input.\n",
    "model.add(MaxPool2D(pool_size=(2,2)))\n",
    "\n",
    "# This layer creates a concolutional kernel that is convolved with the layer input \n",
    "# to produce a tensor of outputs.\n",
    "# Parameters: Conv2D(filters, kernel_size, activation input_shape):\n",
    "    # filters: the number of output filters in the convolution\n",
    "    # kernel_size: A tuple of 2 integers, specifying the height and width of the \n",
    "    #              convolution window. --> 3 X 3 kernel\n",
    "    # This applies an activation function to an output.\n",
    "    # ReLU activation function is used. Formula: f(x) = max(0, x); \n",
    "    # According to the formula: The function returns 0 if it receives any negative input, \n",
    "    #                           but for any positive input, it returns that value back.\n",
    "    # In other words: It gives an output that has a range from 0 to infinity.\n",
    "model.add(Conv2D(64,(3,3), activation='relu'))\n",
    "\n",
    "# This layer downsamples the input along its spatial dimensions (heigt and width) by \n",
    "# taking the maximum value over and input window for each channel of the input.\n",
    "model.add(MaxPool2D(pool_size=(2,2)))\n",
    "\n",
    "# This layer flattens the input. It does not affect the batch size\n",
    "# Example: input = (10, 64) --> output = 640\n",
    "model.add(Flatten())\n",
    "\n",
    "# Add dense layer with 512 neurons.\n",
    "model.add(Dense(512, activation='relu'))\n",
    "\n",
    "# Add dense layer with 1 neuron. Uses the \n",
    "model.add(Dense(1, activation='sigmoid'))"
   ]
  },
  {
   "cell_type": "code",
   "execution_count": null,
   "id": "a435c84f",
   "metadata": {},
   "outputs": [],
   "source": [
    "# Config the model with losses and matrics with model.compile.\n",
    "# loss = 'binary_crossentropy': Computes the crossentropy loss on whether the image is one or the other.\n",
    "# optimizer = 'rmsprop':  Maintains a moving average of the gradients and uses that average to extimate the variance.\n",
    "# metrics = 'accuracy' : Calculates how often predictions equal labels.\n",
    "model.compile(loss = 'binary_crossentropy', \n",
    "              optimizer = RMSprop(learning_rate=0.001), \n",
    "              metrics = 'accuracy')"
   ]
  },
  {
   "cell_type": "code",
   "execution_count": null,
   "id": "a08fa071",
   "metadata": {},
   "outputs": [],
   "source": [
    "# Train the model with model.fit().\n",
    "    # batch_size = number of samples per gradient update.\n",
    "    # epochs = number of epochs to train the model. An epoch is an iteration over the entire x and y data provided.\n",
    "    # verbose = Verbosity mode 0 = silent, 1 = progress bar, 2 - one line per epoch.\n",
    "    # validation_split = Data on which to evaluate the loss and any model metrics at the end of each epoch.\n",
    "model_fit = model.fit(train_dataset, steps_per_epoch = 3, epochs = 30, validation_data = validation_dataset)"
   ]
  },
  {
   "cell_type": "code",
   "execution_count": null,
   "id": "999f27c5",
   "metadata": {},
   "outputs": [],
   "source": [
    "# Used to check the accuracy of the training dataset\n",
    "model.evaluate(train_dataset)"
   ]
  },
  {
   "cell_type": "code",
   "execution_count": null,
   "id": "05b2de0f",
   "metadata": {},
   "outputs": [],
   "source": [
    "# Used to check the accuracy of the validation dataset\n",
    "model.evaluate(validation_dataset)"
   ]
  },
  {
   "cell_type": "code",
   "execution_count": null,
   "id": "4c652292",
   "metadata": {
    "scrolled": false
   },
   "outputs": [],
   "source": [
    "# Target path\n",
    "dir_path = '../data/eindopdracht/testing'\n",
    "\n",
    "# for loop of all files within dir_path\n",
    "for i in os.listdir(dir_path):\n",
    "    # Prints image\n",
    "    img = image.load_img(dir_path+'//'+i,target_size=(200,200))\n",
    "    plt.imshow(img)\n",
    "    plt.show()\n",
    "    \n",
    "    X = image.img_to_array(img)\n",
    "    X = np.expand_dims(X,axis = 0)\n",
    "    images = np.vstack([X])\n",
    "    # Predict whether current image contains mask or not.\n",
    "    val = model.predict(images)\n",
    "\n",
    "    # Prints if image contains mask or not\n",
    "    if val == 0 : \n",
    "        print(\"mask\")\n",
    "    else:\n",
    "        print(\"no mask\")"
   ]
  }
 ],
 "metadata": {
  "kernelspec": {
   "display_name": "Python 3",
   "language": "python",
   "name": "python3"
  },
  "language_info": {
   "codemirror_mode": {
    "name": "ipython",
    "version": 3
   },
   "file_extension": ".py",
   "mimetype": "text/x-python",
   "name": "python",
   "nbconvert_exporter": "python",
   "pygments_lexer": "ipython3",
   "version": "3.7.10"
  }
 },
 "nbformat": 4,
 "nbformat_minor": 5
}
